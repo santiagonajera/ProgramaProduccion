{
  "nbformat": 4,
  "nbformat_minor": 0,
  "metadata": {
    "colab": {
      "provenance": [],
      "authorship_tag": "ABX9TyPnnbxZs6RQnilpS8xuSYFj",
      "include_colab_link": true
    },
    "kernelspec": {
      "name": "python3",
      "display_name": "Python 3"
    },
    "language_info": {
      "name": "python"
    }
  },
  "cells": [
    {
      "cell_type": "markdown",
      "metadata": {
        "id": "view-in-github",
        "colab_type": "text"
      },
      "source": [
        "<a href=\"https://colab.research.google.com/github/santiagonajera/ProgramaProduccion/blob/main/ABC_XYZ.ipynb\" target=\"_parent\"><img src=\"https://colab.research.google.com/assets/colab-badge.svg\" alt=\"Open In Colab\"/></a>"
      ]
    },
    {
      "cell_type": "code",
      "execution_count": 1,
      "metadata": {
        "colab": {
          "base_uri": "https://localhost:8080/",
          "height": 356
        },
        "id": "MT0BMS1OWJSa",
        "outputId": "d5faa362-bfc3-4998-987f-6bcf0c2b7bf9"
      },
      "outputs": [
        {
          "output_type": "error",
          "ename": "ValueError",
          "evalue": "Worksheet named 'forecast' not found",
          "traceback": [
            "\u001b[0;31m---------------------------------------------------------------------------\u001b[0m",
            "\u001b[0;31mValueError\u001b[0m                                Traceback (most recent call last)",
            "\u001b[0;32m/tmp/ipython-input-3520742438.py\u001b[0m in \u001b[0;36m<cell line: 0>\u001b[0;34m()\u001b[0m\n\u001b[1;32m      5\u001b[0m \u001b[0;34m\u001b[0m\u001b[0m\n\u001b[1;32m      6\u001b[0m \u001b[0;31m# Leer la hoja 'forecast' con la primera columna como índice (meses)\u001b[0m\u001b[0;34m\u001b[0m\u001b[0;34m\u001b[0m\u001b[0m\n\u001b[0;32m----> 7\u001b[0;31m \u001b[0mdf_forecast\u001b[0m \u001b[0;34m=\u001b[0m \u001b[0mpd\u001b[0m\u001b[0;34m.\u001b[0m\u001b[0mread_excel\u001b[0m\u001b[0;34m(\u001b[0m\u001b[0murl\u001b[0m\u001b[0;34m,\u001b[0m \u001b[0msheet_name\u001b[0m\u001b[0;34m=\u001b[0m\u001b[0;34m'forecast'\u001b[0m\u001b[0;34m,\u001b[0m \u001b[0mindex_col\u001b[0m\u001b[0;34m=\u001b[0m\u001b[0;36m0\u001b[0m\u001b[0;34m)\u001b[0m\u001b[0;34m\u001b[0m\u001b[0;34m\u001b[0m\u001b[0m\n\u001b[0m\u001b[1;32m      8\u001b[0m \u001b[0;34m\u001b[0m\u001b[0m\n\u001b[1;32m      9\u001b[0m \u001b[0;31m# Sumar las ventas por ítem (suma a lo largo de las filas para cada columna)\u001b[0m\u001b[0;34m\u001b[0m\u001b[0;34m\u001b[0m\u001b[0m\n",
            "\u001b[0;32m/usr/local/lib/python3.12/dist-packages/pandas/io/excel/_base.py\u001b[0m in \u001b[0;36mread_excel\u001b[0;34m(io, sheet_name, header, names, index_col, usecols, dtype, engine, converters, true_values, false_values, skiprows, nrows, na_values, keep_default_na, na_filter, verbose, parse_dates, date_parser, date_format, thousands, decimal, comment, skipfooter, storage_options, dtype_backend, engine_kwargs)\u001b[0m\n\u001b[1;32m    506\u001b[0m \u001b[0;34m\u001b[0m\u001b[0m\n\u001b[1;32m    507\u001b[0m     \u001b[0;32mtry\u001b[0m\u001b[0;34m:\u001b[0m\u001b[0;34m\u001b[0m\u001b[0;34m\u001b[0m\u001b[0m\n\u001b[0;32m--> 508\u001b[0;31m         data = io.parse(\n\u001b[0m\u001b[1;32m    509\u001b[0m             \u001b[0msheet_name\u001b[0m\u001b[0;34m=\u001b[0m\u001b[0msheet_name\u001b[0m\u001b[0;34m,\u001b[0m\u001b[0;34m\u001b[0m\u001b[0;34m\u001b[0m\u001b[0m\n\u001b[1;32m    510\u001b[0m             \u001b[0mheader\u001b[0m\u001b[0;34m=\u001b[0m\u001b[0mheader\u001b[0m\u001b[0;34m,\u001b[0m\u001b[0;34m\u001b[0m\u001b[0;34m\u001b[0m\u001b[0m\n",
            "\u001b[0;32m/usr/local/lib/python3.12/dist-packages/pandas/io/excel/_base.py\u001b[0m in \u001b[0;36mparse\u001b[0;34m(self, sheet_name, header, names, index_col, usecols, converters, true_values, false_values, skiprows, nrows, na_values, parse_dates, date_parser, date_format, thousands, comment, skipfooter, dtype_backend, **kwds)\u001b[0m\n\u001b[1;32m   1614\u001b[0m         \u001b[0;34m>>\u001b[0m\u001b[0;34m>\u001b[0m \u001b[0mfile\u001b[0m\u001b[0;34m.\u001b[0m\u001b[0mparse\u001b[0m\u001b[0;34m(\u001b[0m\u001b[0;34m)\u001b[0m  \u001b[0;31m# doctest: +SKIP\u001b[0m\u001b[0;34m\u001b[0m\u001b[0;34m\u001b[0m\u001b[0m\n\u001b[1;32m   1615\u001b[0m         \"\"\"\n\u001b[0;32m-> 1616\u001b[0;31m         return self._reader.parse(\n\u001b[0m\u001b[1;32m   1617\u001b[0m             \u001b[0msheet_name\u001b[0m\u001b[0;34m=\u001b[0m\u001b[0msheet_name\u001b[0m\u001b[0;34m,\u001b[0m\u001b[0;34m\u001b[0m\u001b[0;34m\u001b[0m\u001b[0m\n\u001b[1;32m   1618\u001b[0m             \u001b[0mheader\u001b[0m\u001b[0;34m=\u001b[0m\u001b[0mheader\u001b[0m\u001b[0;34m,\u001b[0m\u001b[0;34m\u001b[0m\u001b[0;34m\u001b[0m\u001b[0m\n",
            "\u001b[0;32m/usr/local/lib/python3.12/dist-packages/pandas/io/excel/_base.py\u001b[0m in \u001b[0;36mparse\u001b[0;34m(self, sheet_name, header, names, index_col, usecols, dtype, true_values, false_values, skiprows, nrows, na_values, verbose, parse_dates, date_parser, date_format, thousands, decimal, comment, skipfooter, dtype_backend, **kwds)\u001b[0m\n\u001b[1;32m    771\u001b[0m \u001b[0;34m\u001b[0m\u001b[0m\n\u001b[1;32m    772\u001b[0m             \u001b[0;32mif\u001b[0m \u001b[0misinstance\u001b[0m\u001b[0;34m(\u001b[0m\u001b[0masheetname\u001b[0m\u001b[0;34m,\u001b[0m \u001b[0mstr\u001b[0m\u001b[0;34m)\u001b[0m\u001b[0;34m:\u001b[0m\u001b[0;34m\u001b[0m\u001b[0;34m\u001b[0m\u001b[0m\n\u001b[0;32m--> 773\u001b[0;31m                 \u001b[0msheet\u001b[0m \u001b[0;34m=\u001b[0m \u001b[0mself\u001b[0m\u001b[0;34m.\u001b[0m\u001b[0mget_sheet_by_name\u001b[0m\u001b[0;34m(\u001b[0m\u001b[0masheetname\u001b[0m\u001b[0;34m)\u001b[0m\u001b[0;34m\u001b[0m\u001b[0;34m\u001b[0m\u001b[0m\n\u001b[0m\u001b[1;32m    774\u001b[0m             \u001b[0;32melse\u001b[0m\u001b[0;34m:\u001b[0m  \u001b[0;31m# assume an integer if not a string\u001b[0m\u001b[0;34m\u001b[0m\u001b[0;34m\u001b[0m\u001b[0m\n\u001b[1;32m    775\u001b[0m                 \u001b[0msheet\u001b[0m \u001b[0;34m=\u001b[0m \u001b[0mself\u001b[0m\u001b[0;34m.\u001b[0m\u001b[0mget_sheet_by_index\u001b[0m\u001b[0;34m(\u001b[0m\u001b[0masheetname\u001b[0m\u001b[0;34m)\u001b[0m\u001b[0;34m\u001b[0m\u001b[0;34m\u001b[0m\u001b[0m\n",
            "\u001b[0;32m/usr/local/lib/python3.12/dist-packages/pandas/io/excel/_openpyxl.py\u001b[0m in \u001b[0;36mget_sheet_by_name\u001b[0;34m(self, name)\u001b[0m\n\u001b[1;32m    580\u001b[0m \u001b[0;34m\u001b[0m\u001b[0m\n\u001b[1;32m    581\u001b[0m     \u001b[0;32mdef\u001b[0m \u001b[0mget_sheet_by_name\u001b[0m\u001b[0;34m(\u001b[0m\u001b[0mself\u001b[0m\u001b[0;34m,\u001b[0m \u001b[0mname\u001b[0m\u001b[0;34m:\u001b[0m \u001b[0mstr\u001b[0m\u001b[0;34m)\u001b[0m\u001b[0;34m:\u001b[0m\u001b[0;34m\u001b[0m\u001b[0;34m\u001b[0m\u001b[0m\n\u001b[0;32m--> 582\u001b[0;31m         \u001b[0mself\u001b[0m\u001b[0;34m.\u001b[0m\u001b[0mraise_if_bad_sheet_by_name\u001b[0m\u001b[0;34m(\u001b[0m\u001b[0mname\u001b[0m\u001b[0;34m)\u001b[0m\u001b[0;34m\u001b[0m\u001b[0;34m\u001b[0m\u001b[0m\n\u001b[0m\u001b[1;32m    583\u001b[0m         \u001b[0;32mreturn\u001b[0m \u001b[0mself\u001b[0m\u001b[0;34m.\u001b[0m\u001b[0mbook\u001b[0m\u001b[0;34m[\u001b[0m\u001b[0mname\u001b[0m\u001b[0;34m]\u001b[0m\u001b[0;34m\u001b[0m\u001b[0;34m\u001b[0m\u001b[0m\n\u001b[1;32m    584\u001b[0m \u001b[0;34m\u001b[0m\u001b[0m\n",
            "\u001b[0;32m/usr/local/lib/python3.12/dist-packages/pandas/io/excel/_base.py\u001b[0m in \u001b[0;36mraise_if_bad_sheet_by_name\u001b[0;34m(self, name)\u001b[0m\n\u001b[1;32m    622\u001b[0m     \u001b[0;32mdef\u001b[0m \u001b[0mraise_if_bad_sheet_by_name\u001b[0m\u001b[0;34m(\u001b[0m\u001b[0mself\u001b[0m\u001b[0;34m,\u001b[0m \u001b[0mname\u001b[0m\u001b[0;34m:\u001b[0m \u001b[0mstr\u001b[0m\u001b[0;34m)\u001b[0m \u001b[0;34m->\u001b[0m \u001b[0;32mNone\u001b[0m\u001b[0;34m:\u001b[0m\u001b[0;34m\u001b[0m\u001b[0;34m\u001b[0m\u001b[0m\n\u001b[1;32m    623\u001b[0m         \u001b[0;32mif\u001b[0m \u001b[0mname\u001b[0m \u001b[0;32mnot\u001b[0m \u001b[0;32min\u001b[0m \u001b[0mself\u001b[0m\u001b[0;34m.\u001b[0m\u001b[0msheet_names\u001b[0m\u001b[0;34m:\u001b[0m\u001b[0;34m\u001b[0m\u001b[0;34m\u001b[0m\u001b[0m\n\u001b[0;32m--> 624\u001b[0;31m             \u001b[0;32mraise\u001b[0m \u001b[0mValueError\u001b[0m\u001b[0;34m(\u001b[0m\u001b[0;34mf\"Worksheet named '{name}' not found\"\u001b[0m\u001b[0;34m)\u001b[0m\u001b[0;34m\u001b[0m\u001b[0;34m\u001b[0m\u001b[0m\n\u001b[0m\u001b[1;32m    625\u001b[0m \u001b[0;34m\u001b[0m\u001b[0m\n\u001b[1;32m    626\u001b[0m     def _check_skiprows_func(\n",
            "\u001b[0;31mValueError\u001b[0m: Worksheet named 'forecast' not found"
          ]
        }
      ],
      "source": [
        "import pandas as pd\n",
        "\n",
        "# URL del archivo Excel\n",
        "url = 'https://github.com/santiagonajera/PlanificacionProduccion/raw/refs/heads/main/Forecast-2026.xlsx'\n",
        "\n",
        "# Leer la hoja 'forecast' con la primera columna como índice (meses)\n",
        "df_forecast = pd.read_excel(url, sheet_name='forecast', index_col=0)\n",
        "\n",
        "# Sumar las ventas por ítem (suma a lo largo de las filas para cada columna)\n",
        "sales_sum = df_forecast.sum(axis=0)\n",
        "\n",
        "# Leer la hoja 'Precio_Costo' con la primera columna como índice (ítems)\n",
        "df_prices = pd.read_excel(url, sheet_name='Precio_Costo', index_col=0)\n",
        "\n",
        "# Convertir los precios de formato con coma a punto decimal y a float\n",
        "df_prices['PRECIO'] = df_prices['PRECIO'].astype(str).str.replace(',', '.').astype(float)\n",
        "\n",
        "# Calcular el ingreso (revenue) para cada ítem: ventas sumadas * precio\n",
        "revenues = {}\n",
        "for item in sales_sum.index:\n",
        "    if item in df_prices.index:\n",
        "        revenues[item] = sales_sum[item] * df_prices.loc[item, 'PRECIO']\n",
        "\n",
        "# Convertir a DataFrame para facilitar el manejo\n",
        "df_revenues = pd.DataFrame(list(revenues.items()), columns=['Item', 'Revenue'])\n",
        "df_revenues = df_revenues.sort_values(by='Revenue', ascending=False).reset_index(drop=True)\n",
        "\n",
        "# Calcular el ingreso total\n",
        "total_revenue = df_revenues['Revenue'].sum()\n",
        "\n",
        "# Calcular el porcentaje acumulativo\n",
        "df_revenues['CumRevenue'] = df_revenues['Revenue'].cumsum()\n",
        "df_revenues['CumPerc'] = df_revenues['CumRevenue'] / total_revenue\n",
        "\n",
        "# Asignar clases ABC\n",
        "def assign_class(cum_perc):\n",
        "    if cum_perc <= 0.6:\n",
        "        return 'A'\n",
        "    elif cum_perc <= 0.8:\n",
        "        return 'B'\n",
        "    else:\n",
        "        return 'C'\n",
        "\n",
        "df_revenues['Class'] = df_revenues['CumPerc'].apply(assign_class)\n",
        "\n",
        "# Imprimir los resultados\n",
        "print(\"Clasificación ABC de los ítems:\")\n",
        "print(df_revenues[['Item', 'Revenue', 'CumPerc', 'Class']])"
      ]
    },
    {
      "cell_type": "code",
      "source": [
        "import pandas as pd\n",
        "\n",
        "# URL del archivo Excel\n",
        "url = 'https://github.com/santiagonajera/PlanificacionProduccion/raw/refs/heads/main/Forecast-2026.xlsx'\n",
        "\n",
        "# Leer la hoja 'Forecast' con la primera columna como índice (meses)\n",
        "df_forecast = pd.read_excel(url, sheet_name='Forecast', index_col=0)\n",
        "\n",
        "# Sumar las ventas por ítem (suma a lo largo de las filas para cada columna)\n",
        "sales_sum = df_forecast.sum(axis=0)\n",
        "\n",
        "# Leer la hoja 'Precio_Costo' con la primera columna como índice (ítems)\n",
        "df_prices = pd.read_excel(url, sheet_name='Precio_Costo', index_col=0)\n",
        "\n",
        "# Convertir los precios de formato con coma a punto decimal y a float\n",
        "df_prices['PRECIO'] = df_prices['PRECIO'].astype(str).str.replace(',', '.').astype(float)\n",
        "\n",
        "# Calcular el ingreso (revenue) para cada ítem: ventas sumadas * precio\n",
        "revenues = {}\n",
        "for item in sales_sum.index:\n",
        "    if item in df_prices.index:\n",
        "        revenues[item] = sales_sum[item] * df_prices.loc[item, 'PRECIO']\n",
        "\n",
        "# Convertir a DataFrame para facilitar el manejo\n",
        "df_revenues = pd.DataFrame(list(revenues.items()), columns=['Item', 'Revenue'])\n",
        "df_revenues = df_revenues.sort_values(by='Revenue', ascending=False).reset_index(drop=True)\n",
        "\n",
        "# Calcular el porcentaje acumulativo\n",
        "df_revenues['CumRevenue'] = df_revenues['Revenue'].cumsum()\n",
        "df_revenues['CumPerc'] = df_revenues['CumRevenue'] / df_revenues['Revenue'].sum()\n",
        "\n",
        "# Asignar clases ABC\n",
        "def assign_class(cum_perc):\n",
        "    if cum_perc <= 0.6:\n",
        "        return 'A'\n",
        "    elif cum_perc <= 0.8:\n",
        "        return 'B'\n",
        "    else:\n",
        "        return 'C'\n",
        "\n",
        "df_revenues['Class'] = df_revenues['CumPerc'].apply(assign_class)\n",
        "\n",
        "# Imprimir los resultados\n",
        "print(\"Clasificación ABC de los ítems:\")\n",
        "print(df_revenues[['Item', 'Revenue', 'CumPerc', 'Class']])\n",
        "\n",
        "# Guardar los resultados en un archivo Excel\n",
        "df_revenues.to_excel('ABC_Classification_Result.xlsx', index=False)\n",
        "print(\"\\nResultados guardados en 'ABC_Classification_Result.xlsx'\")"
      ],
      "metadata": {
        "colab": {
          "base_uri": "https://localhost:8080/"
        },
        "id": "mysyuYXicuxe",
        "outputId": "351f1ea5-9984-4eb2-89d9-a462f7354228"
      },
      "execution_count": 2,
      "outputs": [
        {
          "output_type": "stream",
          "name": "stdout",
          "text": [
            "Clasificación ABC de los ítems:\n",
            "       Item    Revenue   CumPerc Class\n",
            "0    Item_6  261897.23  0.048266     A\n",
            "1   Item_39  232804.00  0.091170     A\n",
            "2   Item_49  218780.48  0.131489     A\n",
            "3    Item_7  218632.77  0.171781     A\n",
            "4    Item_4  208327.68  0.210174     A\n",
            "5    Item_5  202872.11  0.247562     A\n",
            "6   Item_38  179744.20  0.280688     A\n",
            "7   Item_27  173868.10  0.312730     A\n",
            "8   Item_20  169890.00  0.344039     A\n",
            "9   Item_13  169719.71  0.375317     A\n",
            "10  Item_10  167416.86  0.406171     A\n",
            "11  Item_22  166969.60  0.436942     A\n",
            "12  Item_24  165343.68  0.467414     A\n",
            "13   Item_1  150256.08  0.495105     A\n",
            "14  Item_46  138867.32  0.520697     A\n",
            "15   Item_2  130753.04  0.544794     A\n",
            "16  Item_16  129734.80  0.568703     A\n",
            "17  Item_50  127080.32  0.592123     A\n",
            "18   Item_3  124169.24  0.615006     B\n",
            "19  Item_14  121012.41  0.637308     B\n",
            "20  Item_23  120146.04  0.659450     B\n",
            "21   Item_9  117472.72  0.681099     B\n",
            "22  Item_34  101098.56  0.699731     B\n",
            "23  Item_47  100672.88  0.718284     B\n",
            "24  Item_26   99099.00  0.736547     B\n",
            "25  Item_15   95726.64  0.754189     B\n",
            "26  Item_12   93023.13  0.771332     B\n",
            "27  Item_35   91689.50  0.788230     B\n",
            "28  Item_25   79704.24  0.802918     C\n",
            "29  Item_17   77091.36  0.817126     C\n",
            "30  Item_45   75023.00  0.830952     C\n",
            "31  Item_21   70152.75  0.843881     C\n",
            "32   Item_8   67787.70  0.856373     C\n",
            "33  Item_11   66146.34  0.868564     C\n",
            "34  Item_43   65790.67  0.880688     C\n",
            "35  Item_18   61473.86  0.892017     C\n",
            "36  Item_48   57996.14  0.902706     C\n",
            "37  Item_29   56245.35  0.913071     C\n",
            "38  Item_37   55909.80  0.923375     C\n",
            "39  Item_31   50166.08  0.932620     C\n",
            "40  Item_28   47519.00  0.941377     C\n",
            "41  Item_33   46481.19  0.949944     C\n",
            "42  Item_44   43911.60  0.958036     C\n",
            "43  Item_32   43097.40  0.965979     C\n",
            "44  Item_36   33843.42  0.972216     C\n",
            "45  Item_30   32714.80  0.978245     C\n",
            "46  Item_40   32165.32  0.984173     C\n",
            "47  Item_42   30139.12  0.989727     C\n",
            "48  Item_19   27911.58  0.994871     C\n",
            "49  Item_41   27831.30  1.000000     C\n",
            "\n",
            "Resultados guardados en 'ABC_Classification_Result.xlsx'\n"
          ]
        }
      ]
    }
  ]
}